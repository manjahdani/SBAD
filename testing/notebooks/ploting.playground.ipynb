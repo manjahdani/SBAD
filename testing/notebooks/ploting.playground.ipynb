{
 "cells": [
  {
   "cell_type": "code",
   "execution_count": null,
   "id": "4d679de5",
   "metadata": {},
   "outputs": [],
   "source": [
    "import os\n",
    "import argparse\n",
    "from matplotlib import rc\n",
    "import matplotlib.pyplot as plt\n",
    "import pandas as pd\n",
    "import numpy as np\n",
    "\n",
    "SMALL_SIZE = 6\n",
    "MEDIUM_SIZE = 8\n",
    "BIGGER_SIZE = 10\n",
    "\n",
    "font = {'family' : 'serif',\n",
    "        'weight' : 'bold',\n",
    "        'size'   : SMALL_SIZE}\n",
    "\n",
    "ticks_x = [0, 25, 50, 75, 100]\n",
    "ticks_y = [0.2, 0.3, 0.4, 0.5, 0.6, 0.7, 0.8, 0.9, 1]\n",
    "hline_x = [-10,110]\n",
    "interval_to_show_x = [-2,102]\n",
    "\n",
    "\n",
    "df = pd.read_csv('../test.csv', sep=',')\n",
    "dpi = 1200\n",
    "\n",
    "strategies = df.strategy.unique()\n",
    "samples = df.samples.unique()\n",
    "samples.sort()\n",
    "\n",
    "print(f'Found following strategies : {strategies}, and following samples {samples}')\n",
    "\n",
    "df"
   ]
  },
  {
   "cell_type": "code",
   "execution_count": null,
   "id": "479286de",
   "metadata": {},
   "outputs": [],
   "source": [
    "df_strategy = df[['strategy', 'samples', 'precision']].loc[~df['strategy'].isin(['yolov8n', 'yolov8s','yolov8m', 'yolov8l', 'yolov8x'])]\n",
    "df_coco = df[['strategy', 'samples', 'precision']].loc[df['strategy'].isin(['yolov8n', 'yolov8s','yolov8m', 'yolov8l', 'yolov8x'])]"
   ]
  },
  {
   "cell_type": "code",
   "execution_count": null,
   "id": "142851f0",
   "metadata": {},
   "outputs": [],
   "source": [
    "df_strategy_pivot = pd.pivot_table(df_strategy, values='precision', index='strategy', columns='samples',\n",
    "                          aggfunc='mean', margins=False, margins_name='Mean')\n",
    "df_strategy_pivot"
   ]
  },
  {
   "cell_type": "code",
   "execution_count": null,
   "id": "141cb642",
   "metadata": {},
   "outputs": [],
   "source": [
    "df_coco"
   ]
  },
  {
   "cell_type": "code",
   "execution_count": null,
   "metadata": {},
   "outputs": [],
   "source": [
    "df_coco_pivot = pd.pivot_table(df_coco, values='precision', index='strategy', columns='samples',\n",
    "                          aggfunc='mean', margins=False, margins_name='Mean')\n",
    "df_coco_pivot"
   ]
  },
  {
   "cell_type": "code",
   "execution_count": null,
   "id": "3f193c21",
   "metadata": {},
   "outputs": [],
   "source": [
    "df_strategy_simple = df_strategy[['strategy', 'samples', 'precision']]\n",
    "np.mean(df_strategy_simple.loc[(df_strategy_simple['strategy'] == 'n_first') & (df_strategy_simple['samples'] == 75)]['precision'])"
   ]
  },
  {
   "cell_type": "code",
   "execution_count": null,
   "id": "ccb1350c",
   "metadata": {},
   "outputs": [],
   "source": [
    "dfs_strategy = {}\n",
    "metrics = ['precision', 'recall', 'mAP50', 'mAP50-95', 'fitness']\n",
    "coco_models = ['yolov8n', 'yolov8s','yolov8m', 'yolov8l', 'yolov8x']\n",
    "df_strategy = df[['strategy', 'samples', *metrics]].loc[~df['strategy'].isin(coco_models)]\n",
    "for metric in metrics:\n",
    "    dfs_strategy[metric] = pd.pivot_table(df_strategy, values=metric, index='strategy', columns='samples',\n",
    "                                    aggfunc='mean', margins=False, margins_name='mean')\n",
    "    print('   ', metric)\n",
    "    print(dfs_strategy[metric], end = '\\n'*3)"
   ]
  },
  {
   "cell_type": "code",
   "execution_count": null,
   "id": "9c5f2005",
   "metadata": {},
   "outputs": [],
   "source": [
    "interval_to_show_x = [15, 110]\n",
    "interval_to_show_y = [0.5, 1]\n",
    "\n",
    "for metric, df_p in dfs_strategy.items():\n",
    "    samples = list(df_p.columns)\n",
    "    samples.sort()\n",
    "\n",
    "    plt.plot(samples, df_p.values[0], label = df_p.index[0])\n",
    "    plt.plot(samples, df_p.values[1], label = df_p.index[1])\n",
    "\n",
    "    plt.xticks(ticks = ticks_x)\n",
    "    plt.yticks(ticks = ticks_y)\n",
    "\n",
    "    plt.xlim(interval_to_show_x)\n",
    "    plt.ylim(interval_to_show_y)\n",
    "\n",
    "    plt.xlabel('Number of selected frames')\n",
    "    plt.ylabel(metric)\n",
    "\n",
    "    plt.legend(list(df_p.index), loc = 'lower right')\n",
    "\n",
    "    # plt.grid()\n",
    "\n",
    "    plt.legend()\n",
    "    plt.show()"
   ]
  },
  {
   "cell_type": "code",
   "execution_count": null,
   "id": "b59dbb42",
   "metadata": {},
   "outputs": [],
   "source": []
  }
 ],
 "metadata": {
  "kernelspec": {
   "display_name": "Python 3",
   "language": "python",
   "name": "python3"
  },
  "language_info": {
   "codemirror_mode": {
    "name": "ipython",
    "version": 3
   },
   "file_extension": ".py",
   "mimetype": "text/x-python",
   "name": "python",
   "nbconvert_exporter": "python",
   "pygments_lexer": "ipython3",
   "version": "3.8.10"
  },
  "vscode": {
   "interpreter": {
    "hash": "767d51c1340bd893661ea55ea3124f6de3c7a262a8b4abca0554b478b1e2ff90"
   }
  }
 },
 "nbformat": 4,
 "nbformat_minor": 5
}
