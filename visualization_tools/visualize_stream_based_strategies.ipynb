{
 "cells": [
  {
   "cell_type": "code",
   "execution_count": null,
   "metadata": {
    "collapsed": true
   },
   "outputs": [],
   "source": [
    "from distillation.stream_based.sampling_uniform import uniform_stream_based\n",
    "from distillation.stream_based.sampling_thresholding import thresholding_least_confidence, thresholding_top_confidence, thresholding_object_count\n",
    "from distillation.visualization.visualize_bounding_boxes import plot_bboxes\n",
    "from distillation.stream_based.sampling_bernoulli import bernoulli_least_confidence, bernoulli_top_confidence"
   ]
  },
  {
   "cell_type": "code",
   "execution_count": null,
   "metadata": {
    "collapsed": false
   },
   "outputs": [],
   "source": [
    "# path = \"/Users/dcac/Data/knowledge_distillation/AI_city/S05c016/bank/\"\n",
    "# path = \"/Users/dcac/Data/knowledge_distillation/AI_city/S05c017/bank/\"\n",
    "# path = \"/Users/dcac/Data/knowledge_distillation/AI_city/S05c018/bank/\"\n",
    "path = \"/Users/dcac/Data/knowledge_distillation/week1/\""
   ]
  },
  {
   "cell_type": "markdown",
   "metadata": {
    "collapsed": false
   },
   "source": []
  },
  {
   "cell_type": "code",
   "execution_count": null,
   "metadata": {
    "collapsed": false
   },
   "outputs": [],
   "source": [
    "# Uniform\n",
    "subset = uniform_stream_based(image_labels_path=path+\"labels_yolov8n_w_conf/\", n=10, sampling_rate=.10, seed=0)\n",
    "\n",
    "for image_name in subset:\n",
    "    plot_bboxes(image_folder_path=path+\"images/\",\n",
    "                label_folder_path=path+\"labels_yolov8n_w_conf/\",\n",
    "                image=image_name, extension=\".jpg\")"
   ]
  },
  {
   "cell_type": "code",
   "execution_count": null,
   "metadata": {
    "collapsed": false
   },
   "outputs": [],
   "source": [
    "# Object count\n",
    "subset = thresholding_object_count(image_labels_path=path+\"labels_yolov8n_w_conf/\", n=10, warmup_length=720,\n",
    "                                   sampling_rate=.10, seed=0)\n",
    "\n",
    "for image_name in subset:\n",
    "    plot_bboxes(image_folder_path=path+\"images/\",\n",
    "                label_folder_path=path+\"labels_yolov8n_w_conf/\",\n",
    "                image=image_name, extension=\".jpg\")"
   ]
  },
  {
   "cell_type": "code",
   "execution_count": null,
   "metadata": {
    "collapsed": false
   },
   "outputs": [],
   "source": [
    "# Top Thresholding SUM\n",
    "subset = thresholding_top_confidence(image_labels_path=path+\"labels_yolov8n_w_conf/\", n=10, aggregation_function=\"sum\",\n",
    "                                     warmup_length=720, sampling_rate=.10)\n",
    "\n",
    "for image_name in subset:\n",
    "    plot_bboxes(image_folder_path=path+\"images/\",\n",
    "                label_folder_path=path+\"labels_yolov8n_w_conf/\",\n",
    "                image=image_name, extension=\".png\")"
   ]
  },
  {
   "cell_type": "code",
   "execution_count": null,
   "metadata": {
    "collapsed": false
   },
   "outputs": [],
   "source": [
    "# Top Thresholding MAX\n",
    "subset = thresholding_top_confidence(image_labels_path=path+\"labels_yolov8n_w_conf/\", n=10, aggregation_function=\"max\",\n",
    "                                     warmup_length=720, sampling_rate=.10)\n",
    "\n",
    "for image_name in subset:\n",
    "    plot_bboxes(image_folder_path=path+\"images/\",\n",
    "                label_folder_path=path+\"labels_yolov8n_w_conf/\",\n",
    "                image=image_name, extension=\".jpg\")"
   ]
  },
  {
   "cell_type": "code",
   "execution_count": null,
   "metadata": {
    "collapsed": false
   },
   "outputs": [],
   "source": [
    "# Least Thresholding MAX\n",
    "subset = thresholding_least_confidence(image_labels_path=path+\"labels_yolov8n_w_conf/\", n=5, aggregation_function=\"max\",\n",
    "                                       warmup_length=720, sampling_rate=.10)\n",
    "\n",
    "for image_name in subset:\n",
    "    plot_bboxes(image_folder_path=path+\"images/\",\n",
    "                label_folder_path=path+\"labels_yolov8n_w_conf/\",\n",
    "                image=image_name, extension=\".jpg\")"
   ]
  },
  {
   "cell_type": "code",
   "execution_count": null,
   "metadata": {
    "collapsed": false
   },
   "outputs": [],
   "source": [
    "# Top Bernoulli MAX\n",
    "subset = bernoulli_top_confidence(image_labels_path=path+\"labels_yolov8n_w_conf/\", n=5, aggregation_function=\"max\",\n",
    "                                  strategy=\"b-sampling\", b=0.04, seed=0)\n",
    "\n",
    "for image_name in subset:\n",
    "    plot_bboxes(image_folder_path=path+\"images/\",\n",
    "                label_folder_path=path+\"labels_yolov8n_w_conf/\",\n",
    "                image=image_name, extension=\".jpg\")"
   ]
  },
  {
   "cell_type": "markdown",
   "metadata": {
    "collapsed": false
   },
   "source": []
  },
  {
   "cell_type": "code",
   "execution_count": null,
   "metadata": {
    "collapsed": false
   },
   "outputs": [],
   "source": [
    "# Least Bernoulli MAX\n",
    "subset = bernoulli_least_confidence(image_labels_path=path+\"labels_yolov8n_w_conf/\", n=10, aggregation_function=\"max\",\n",
    "                                    strategy=\"b-sampling\", b=0.04, seed=0)\n",
    "\n",
    "for image_name in subset:\n",
    "    plot_bboxes(image_folder_path=path+\"images/\",\n",
    "                label_folder_path=path+\"labels_yolov8n_w_conf/\",\n",
    "                image=image_name, extension=\".jpg\")"
   ]
  },
  {
   "cell_type": "code",
   "execution_count": null,
   "metadata": {
    "collapsed": false
   },
   "outputs": [],
   "source": []
  }
 ],
 "metadata": {
  "kernelspec": {
   "display_name": "Python 3",
   "language": "python",
   "name": "python3"
  },
  "language_info": {
   "codemirror_mode": {
    "name": "ipython",
    "version": 2
   },
   "file_extension": ".py",
   "mimetype": "text/x-python",
   "name": "python",
   "nbconvert_exporter": "python",
   "pygments_lexer": "ipython2",
   "version": "2.7.6"
  }
 },
 "nbformat": 4,
 "nbformat_minor": 0
}
