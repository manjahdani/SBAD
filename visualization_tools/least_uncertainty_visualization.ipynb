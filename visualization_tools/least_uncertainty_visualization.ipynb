{
 "cells": [
  {
   "cell_type": "code",
   "execution_count": null,
   "id": "1e5b5b94",
   "metadata": {},
   "outputs": [],
   "source": [
    "import os\n",
    "import matplotlib.pyplot as plt\n",
    "from matplotlib.patches import Rectangle\n",
    "from distillation.pool_based.uncertainty_sampling import strategy_least_confidence, strategy_top_confidence\n",
    "from distillation.visualization.visualize_bounding_boxes import plot_bboxes"
   ]
  },
  {
   "cell_type": "markdown",
   "id": "b7bf3b5c",
   "metadata": {},
   "source": [
    "## Minmax: the confidence of an image is the maximum confidence among all the bounding boxes"
   ]
  },
  {
   "cell_type": "code",
   "execution_count": null,
   "metadata": {
    "collapsed": false
   },
   "outputs": [],
   "source": [
    "# path = \"/Users/dcac/Data/knowledge_distillation/AI_city/S05c016/bank/\"\n",
    "# path = \"/Users/dcac/Data/knowledge_distillation/AI_city/S05c017/bank/\"\n",
    "path = \"/Users/dcac/Data/knowledge_distillation/week1/\"\n",
    "\n",
    "subset = strategy_least_confidence(path+\"labels_yolov8n_w_conf/\", 10, \"max\")\n",
    "\n",
    "for image_name in subset:\n",
    "    plot_bboxes(image_folder_path=path+\"images/\",\n",
    "                label_folder_path=path+\"labels_yolov8n_w_conf/\",\n",
    "                image=image_name, extension=\".jpg\")"
   ]
  },
  {
   "cell_type": "code",
   "execution_count": null,
   "id": "a028eb20",
   "metadata": {
    "scrolled": false
   },
   "outputs": [],
   "source": [
    "# path = \"/Users/dcac/Data/knowledge_distillation/AI_city/S05c016/bank/\"\n",
    "path = \"/Users/dcac/Data/knowledge_distillation/week1/\"\n",
    "\n",
    "subset = strategy_least_confidence(path+\"labels_yolov8n_w_conf/\", 3, \"max\")\n",
    "\n",
    "\n",
    "for image_name in subset:\n",
    "    plot_bboxes(image_folder_path=path+\"images/\",\n",
    "                label_folder_path=path+\"labels_yolov8n_w_conf/\",\n",
    "                image=image_name, extension=\".jpg\")"
   ]
  },
  {
   "cell_type": "code",
   "execution_count": null,
   "metadata": {
    "collapsed": false
   },
   "outputs": [],
   "source": [
    "subset = strategy_top_confidence(\"/Users/dcac/Data/knowledge_distillation/week1/labels_yolov8n_w_conf/\", 10, \"max\")\n",
    "\n",
    "for image_name in subset:\n",
    "    plot_bboxes(image_folder_path=\"/Users/dcac/Data/knowledge_distillation/week1/images/\",\n",
    "                label_folder_path=\"/Users/dcac/Data/knowledge_distillation/week1/labels_yolov8n_w_conf/\",\n",
    "                image=image_name)"
   ]
  },
  {
   "cell_type": "markdown",
   "id": "0f5d93c8",
   "metadata": {},
   "source": [
    "## Min: the confidence of an image is the minimum confidence among all the bounding boxes"
   ]
  },
  {
   "cell_type": "code",
   "execution_count": null,
   "id": "c35d8433",
   "metadata": {
    "scrolled": false
   },
   "outputs": [],
   "source": [
    "subset = strategy_least_confidence(\"week1/labels_yolov8n_w_conf/\", 10, \"min\")\n",
    "\n",
    "for image_name in subset:\n",
    "    plot_bboxes(image_folder_path=\"week1/images/\",\n",
    "                label_folder_path=\"week1/labels_yolov8n_w_conf/\",\n",
    "                image=image_name)"
   ]
  },
  {
   "cell_type": "markdown",
   "id": "13ebdc04",
   "metadata": {},
   "source": [
    "# Other aggregation functions"
   ]
  },
  {
   "cell_type": "markdown",
   "id": "3d8a8557",
   "metadata": {},
   "source": [
    "## Min avg: the confidence of an image is the average confidence of bounding boxes"
   ]
  },
  {
   "cell_type": "code",
   "execution_count": null,
   "id": "caf01f4f",
   "metadata": {
    "scrolled": false
   },
   "outputs": [],
   "source": [
    "subset = strategy_least_confidence(\"week1/labels_yolov8n_w_conf/\", 10, \"mean\")\n",
    "\n",
    "for image_name in subset:\n",
    "    plot_bboxes(image_folder_path=\"week1/images/\",\n",
    "                label_folder_path=\"week1/labels_yolov8n_w_conf/\",\n",
    "                image=image_name)"
   ]
  },
  {
   "cell_type": "markdown",
   "id": "46ff1e44",
   "metadata": {},
   "source": [
    "## Min sum: the confidence of an image is the sum of the confidence of bounding boxes"
   ]
  },
  {
   "cell_type": "code",
   "execution_count": null,
   "id": "78561555",
   "metadata": {
    "scrolled": false
   },
   "outputs": [],
   "source": [
    "subset = strategy_least_confidence(\"week1/labels_yolov8n_w_conf/\", 10, \"sum\")\n",
    "\n",
    "for image_name in subset:\n",
    "    plot_bboxes(image_folder_path=\"week1/images/\",\n",
    "                label_folder_path=\"week1/labels_yolov8n_w_conf/\",\n",
    "                image=image_name)"
   ]
  },
  {
   "cell_type": "code",
   "execution_count": null,
   "id": "d3b8f1ea",
   "metadata": {},
   "outputs": [],
   "source": []
  }
 ],
 "metadata": {
  "kernelspec": {
   "display_name": "Python 3",
   "language": "python",
   "name": "python3"
  },
  "language_info": {
   "codemirror_mode": {
    "name": "ipython",
    "version": 3
   },
   "file_extension": ".py",
   "mimetype": "text/x-python",
   "name": "python",
   "nbconvert_exporter": "python",
   "pygments_lexer": "ipython3",
   "version": "3.9.5"
  }
 },
 "nbformat": 4,
 "nbformat_minor": 5
}
